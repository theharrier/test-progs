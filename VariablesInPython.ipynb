{
 "cells": [
  {
   "cell_type": "code",
   "execution_count": 24,
   "id": "c1011a2d",
   "metadata": {},
   "outputs": [],
   "source": [
    "x=10; y=\"Bani\""
   ]
  },
  {
   "cell_type": "code",
   "execution_count": 5,
   "id": "07cc8a27",
   "metadata": {},
   "outputs": [
    {
     "name": "stdout",
     "output_type": "stream",
     "text": [
      "Bani\n"
     ]
    }
   ],
   "source": [
    "print(y)"
   ]
  },
  {
   "cell_type": "code",
   "execution_count": 8,
   "id": "86a99e05",
   "metadata": {},
   "outputs": [],
   "source": [
    "var1 = int(12)"
   ]
  },
  {
   "cell_type": "code",
   "execution_count": 25,
   "id": "6c55d256",
   "metadata": {},
   "outputs": [
    {
     "name": "stdout",
     "output_type": "stream",
     "text": [
      "<class 'str'> --> <class 'int'> <class 'float'>\n"
     ]
    }
   ],
   "source": [
    "print(type(y) , \"-->\" , type (x), type (x/2))"
   ]
  },
  {
   "cell_type": "code",
   "execution_count": 28,
   "id": "dc1aeb54",
   "metadata": {},
   "outputs": [],
   "source": [
    "a=500; b=500; c=200+300"
   ]
  },
  {
   "cell_type": "code",
   "execution_count": 29,
   "id": "99e680bb",
   "metadata": {},
   "outputs": [
    {
     "name": "stdout",
     "output_type": "stream",
     "text": [
      "2278789924112 2278789925712 2278789923856\n"
     ]
    }
   ],
   "source": [
    "print(id(a), id(b), id(c))"
   ]
  },
  {
   "cell_type": "code",
   "execution_count": 61,
   "id": "a0a32058",
   "metadata": {},
   "outputs": [],
   "source": [
    "#Multiple Variables in a single line; No of elements in the LHS and RHS has to match\n",
    "x,y,z, s=4, 5, 6.33, \"Bharat\""
   ]
  },
  {
   "cell_type": "code",
   "execution_count": 39,
   "id": "33656b91",
   "metadata": {},
   "outputs": [
    {
     "name": "stdout",
     "output_type": "stream",
     "text": [
      "4 5 6.33 Bharat\n"
     ]
    }
   ],
   "source": [
    "print(x,y,z,s)"
   ]
  },
  {
   "cell_type": "code",
   "execution_count": 57,
   "id": "c40da15d",
   "metadata": {},
   "outputs": [],
   "source": [
    "#Global variables\n",
    "def add(num1, num2):\n",
    "    global mySum\n",
    "    global mySum1\n",
    "    mySum1 = 7\n",
    "    mySum=num1+num2\n",
    "    return mySum"
   ]
  },
  {
   "cell_type": "code",
   "execution_count": 59,
   "id": "fe203554",
   "metadata": {},
   "outputs": [
    {
     "name": "stdout",
     "output_type": "stream",
     "text": [
      "9\n"
     ]
    }
   ],
   "source": [
    "print(add(4,5))"
   ]
  },
  {
   "cell_type": "code",
   "execution_count": 60,
   "id": "973e0a6e",
   "metadata": {},
   "outputs": [
    {
     "name": "stdout",
     "output_type": "stream",
     "text": [
      "7\n"
     ]
    }
   ],
   "source": [
    "print(mySum1)"
   ]
  },
  {
   "cell_type": "code",
   "execution_count": null,
   "id": "fd9e45f7",
   "metadata": {},
   "outputs": [],
   "source": []
  }
 ],
 "metadata": {
  "kernelspec": {
   "display_name": "Python 3 (ipykernel)",
   "language": "python",
   "name": "python3"
  },
  "language_info": {
   "codemirror_mode": {
    "name": "ipython",
    "version": 3
   },
   "file_extension": ".py",
   "mimetype": "text/x-python",
   "name": "python",
   "nbconvert_exporter": "python",
   "pygments_lexer": "ipython3",
   "version": "3.11.5"
  }
 },
 "nbformat": 4,
 "nbformat_minor": 5
}
